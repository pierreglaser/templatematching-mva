{
 "cells": [
  {
   "cell_type": "markdown",
   "metadata": {},
   "source": [
    "We assume the images are located in the the `images` folder, itself located at the root folder of the project."
   ]
  },
  {
   "cell_type": "code",
   "execution_count": 1,
   "metadata": {},
   "outputs": [],
   "source": [
    "import matplotlib.pyplot as plt\n",
    "import numpy as np\n",
    "%matplotlib inline\n",
    "%load_ext autoreload\n",
    "%autoreload 2"
   ]
  },
  {
   "cell_type": "code",
   "execution_count": 4,
   "metadata": {},
   "outputs": [],
   "source": [
    "from data_generation import make_circle\n",
    "from orientation_transformer import OrientationScoreTransformer"
   ]
  },
  {
   "cell_type": "code",
   "execution_count": 45,
   "metadata": {},
   "outputs": [],
   "source": [
    "# these parameters take ~1 minute to fit to have a nice visualisation, \n",
    "# scale down the size of the image/the patch to increase speed.\n",
    "img = make_circle(501)\n",
    "transformer = OrientationScoreTransformer(patch_size=51, num_slices=50)\n",
    "transformer.fit(img)\n",
    "val = transformer.transform(img)"
   ]
  },
  {
   "cell_type": "code",
   "execution_count": 47,
   "metadata": {},
   "outputs": [
    {
     "data": {
      "text/plain": [
       "<matplotlib.image.AxesImage at 0x7fb18a2f5e10>"
      ]
     },
     "execution_count": 47,
     "metadata": {},
     "output_type": "execute_result"
    },
    {
     "data": {
      "image/png": "[encoded data removed]",
      "text/plain": [
       "<Figure size 1440x360 with 5 Axes>"
      ]
     },
     "metadata": {
      "needs_background": "light"
     },
     "output_type": "display_data"
    }
   ],
   "source": [
    "f, axs = plt.subplots(ncols=5, figsize=(20, 5))\n",
    "for ax in axs:\n",
    "    ax.get_xaxis().set_visible(False)\n",
    "    ax.get_yaxis().set_visible(False)\n",
    "    \n",
    "axs[0].matshow(transformer._cake_slices[0])\n",
    "axs[1].matshow(transformer._wavelets[0].imag)\n",
    "\n",
    "# zoom a little bit on the wavelet\n",
    "zoomed_slice = slice(int(3*transformer.patch_size/8),int(5*transformer.patch_size/8))\n",
    "\n",
    "axs[2].matshow(transformer._wavelets[0].imag[zoomed_slice, zoomed_slice])\n",
    "axs[3].matshow(img)\n",
    "axs[4].matshow(val[:, :, 0]>100)"
   ]
  },
  {
   "cell_type": "code",
   "execution_count": 68,
   "metadata": {},
   "outputs": [
    {
     "data": {
      "application/vnd.jupyter.widget-view+json": {
       "model_id": "698df2e3e6ea4bc8b4733a08de6cc099",
       "version_major": 2,
       "version_minor": 0
      },
      "text/plain": [
       "VBox(children=(VBox(children=(HBox(children=(Label(value='levels:'), FloatSlider(value=1.0, max=1.0, step=0.00…"
      ]
     },
     "metadata": {},
     "output_type": "display_data"
    }
   ],
   "source": [
    "import ipyvolume\n",
    "ipyvolume.quickvolshow(150*(val>80),level=[150], level_width=[10])"
   ]
  },
  {
   "cell_type": "code",
   "execution_count": 88,
   "metadata": {},
   "outputs": [],
   "source": [
    "import os\n",
    "import os.path\n",
    "from utils import read_norm_img\n",
    "import pickle"
   ]
  },
  {
   "cell_type": "code",
   "execution_count": 92,
   "metadata": {},
   "outputs": [
    {
     "name": "stdout",
     "output_type": "stream",
     "text": [
      "Collecting joblib\n",
      "  Using cached joblib-0.14.1-py2.py3-none-any.whl (294 kB)\n",
      "Installing collected packages: joblib\n",
      "Successfully installed joblib-0.14.1\n"
     ]
    }
   ],
   "source": [
    "!pip install joblib"
   ]
  },
  {
   "cell_type": "code",
   "execution_count": 93,
   "metadata": {},
   "outputs": [],
   "source": [
    "def transform_img_and_dump(i):\n",
    "    SE2_IMAGES_PATH='../images_transformed_se2/'\n",
    "    filename = f'{i:04}.jpg'\n",
    "    img = read_norm_img(i)\n",
    "    transformer = OrientationScoreTransformer(patch_size=51, num_slices=12)\n",
    "    transformed_img = transformer.fit_transform(img)\n",
    "    with open(os.path.join(SE2_IMAGES_PATH, filename), 'wb') as fh:\n",
    "        pickle.dump(transformed_img, fh)"
   ]
  },
  {
   "cell_type": "code",
   "execution_count": null,
   "metadata": {},
   "outputs": [
    {
     "name": "stderr",
     "output_type": "stream",
     "text": [
      "[Parallel(n_jobs=-1)]: Using backend LokyBackend with 4 concurrent workers.\n",
      "[Parallel(n_jobs=-1)]: Done  10 tasks      | elapsed:  1.1min\n"
     ]
    }
   ],
   "source": [
    "from joblib import Parallel, delayed\n",
    "\n",
    "if not os.path.exists(SE2_IMAGES_PATH):\n",
    "    os.makedirs(SE2_IMAGES_PATH)\n",
    "    \n",
    "Parallel(verbose=5, n_jobs=-1)(delayed(transform_img_and_dump)(i) for i in range(1251))"
   ]
  },
  {
   "cell_type": "code",
   "execution_count": null,
   "metadata": {},
   "outputs": [],
   "source": []
  }
 ],
 "metadata": {
  "kernelspec": {
   "display_name": "Python 3",
   "language": "python",
   "name": "python3"
  },
  "language_info": {
   "codemirror_mode": {
    "name": "ipython",
    "version": 3
   },
   "file_extension": ".py",
   "mimetype": "text/x-python",
   "name": "python",
   "nbconvert_exporter": "python",
   "pygments_lexer": "ipython3",
   "version": "3.7.3"
  }
 },
 "nbformat": 4,
 "nbformat_minor": 4
}
