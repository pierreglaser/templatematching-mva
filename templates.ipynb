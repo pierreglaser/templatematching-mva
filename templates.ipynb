{
 "nbformat": 4,
 "nbformat_minor": 2,
 "metadata": {
  "language_info": {
   "name": "python",
   "codemirror_mode": {
    "name": "ipython",
    "version": 3
   },
   "version": "3.6.9-final"
  },
  "orig_nbformat": 2,
  "file_extension": ".py",
  "mimetype": "text/x-python",
  "name": "python",
  "npconvert_exporter": "python",
  "pygments_lexer": "ipython3",
  "version": 3,
  "kernelspec": {
   "name": "python36964bit300684cc5dc843c9b1b8f002781ff8bb",
   "display_name": "Python 3.6.9 64-bit"
  }
 },
 "cells": [
  {
   "cell_type": "markdown",
   "metadata": {},
   "source": [
    "# Template extraction for the database STARE"
   ]
  },
  {
   "cell_type": "code",
   "execution_count": 21,
   "metadata": {},
   "outputs": [],
   "source": [
    "import numpy as np \n",
    "import matplotlib.pyplot as plt\n",
    "import re\n",
    "import os\n",
    "\n",
    "# Images from database\n",
    "path_to_data = 'data/images/'\n",
    "\n",
    "# Folder to store .jpg\n",
    "path_to_jpg = 'data/images_jpeg/'\n",
    "\n",
    "# Txt with ONH locations\n",
    "path_to_labels = 'data/ground_truth.txt'\n",
    "\n",
    "# Folder to store templates\n",
    "path_to_templates = 'data/templates/'"
   ]
  },
  {
   "cell_type": "markdown",
   "metadata": {},
   "source": [
    "### Conversion to .jpg"
   ]
  },
  {
   "cell_type": "code",
   "execution_count": 22,
   "metadata": {},
   "outputs": [],
   "source": [
    "\n",
    "# Convert to jpeg\n",
    "imgs = os.listdir(path_to_data)\n",
    "\n",
    "for image in imgs:\n",
    "    im = plt.imread(path_to_data + image)\n",
    "    name = re.sub(r\"[.]\\w+\", \"\", image)\n",
    "    plt.imsave(path + name + '.jpg', im)\n"
   ]
  },
  {
   "cell_type": "markdown",
   "metadata": {},
   "source": [
    "### Get location of ONH"
   ]
  },
  {
   "cell_type": "code",
   "execution_count": 23,
   "metadata": {},
   "outputs": [],
   "source": [
    "location = {}\n",
    "\n",
    "with open(path_to_labels) as f:\n",
    "    for line in f.readlines():\n",
    "\n",
    "        char = re.split(' ', line.rstrip())\n",
    "\n",
    "        image_label, y, x = char[0], int(char[1]), int(char[2])\n",
    "\n",
    "        location[image_label] = (x, y)\n"
   ]
  },
  {
   "cell_type": "markdown",
   "metadata": {},
   "source": [
    "### Create template and store them"
   ]
  },
  {
   "cell_type": "code",
   "execution_count": 24,
   "metadata": {},
   "outputs": [],
   "source": [
    "# Path to jpg images\n",
    "imgs = os.listdir(path_to_jpg)\n",
    "\n",
    "# Square size centered in ONH\n",
    "x_patch, y_patch = int((51 - 1) / 2), int((51 - 1) / 2)\n",
    "\n",
    "# Loop over images \n",
    "for image in imgs:\n",
    "    im = plt.imread(path_to_jpg + image)\n",
    "\n",
    "    # Get location\n",
    "    loc = location[image]\n",
    "\n",
    "    # Initialize template \n",
    "    template = np.zeros(im.shape)\n",
    "\n",
    "    # Create it\n",
    "    template[loc[1] - x_patch: loc[1] + x_patch, loc[0] - y_patch : loc[0] + y_patch] = 1\n",
    "\n",
    "    name = re.sub(r\"[.]\\w+\", \"\", image) \n",
    "\n",
    "    # Save it\n",
    "    plt.imsave('data/templates/' + image + '_temp.jpg', template)"
   ]
  }
 ]
}