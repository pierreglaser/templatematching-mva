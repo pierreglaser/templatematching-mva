{
 "nbformat": 4,
 "nbformat_minor": 2,
 "metadata": {
  "language_info": {
   "name": "python",
   "codemirror_mode": {
    "name": "ipython",
    "version": 3
   },
   "version": "3.6.9-final"
  },
  "orig_nbformat": 2,
  "file_extension": ".py",
  "mimetype": "text/x-python",
  "name": "python",
  "npconvert_exporter": "python",
  "pygments_lexer": "ipython3",
  "version": 3,
  "kernelspec": {
   "name": "python36964bit300684cc5dc843c9b1b8f002781ff8bb",
   "display_name": "Python 3.6.9 64-bit"
  }
 },
 "cells": [
  {
   "cell_type": "markdown",
   "metadata": {},
   "source": [
    "# Template extraction for the database STARE"
   ]
  },
  {
   "cell_type": "code",
   "execution_count": 12,
   "metadata": {},
   "outputs": [],
   "source": [
    "import numpy as np \n",
    "import matplotlib.pyplot as plt\n",
    "import re\n",
    "import os\n",
    "\n",
    "path = 'data/images_jpeg/'"
   ]
  },
  {
   "cell_type": "markdown",
   "metadata": {},
   "source": [
    "### Conversion to .jpg"
   ]
  },
  {
   "cell_type": "code",
   "execution_count": 13,
   "metadata": {},
   "outputs": [],
   "source": [
    "\n",
    "# Convert to jpeg\n",
    "imgs = os.listdir('data/images')\n",
    "\n",
    "for image in imgs:\n",
    "    im = plt.imread('data/images/' + image)\n",
    "    name = re.sub(r\"[.]\\w+\", \"\", image)\n",
    "    plt.imsave(path + name + '.jpg', im)\n"
   ]
  },
  {
   "cell_type": "markdown",
   "metadata": {},
   "source": [
    "### Get location of ONH"
   ]
  },
  {
   "cell_type": "code",
   "execution_count": 14,
   "metadata": {},
   "outputs": [],
   "source": [
    "location = {}\n",
    "\n",
    "with open('data/ground_truth.txt') as f:\n",
    "    for line in f.readlines():\n",
    "\n",
    "        char = re.split(' ', line.rstrip())\n",
    "\n",
    "        image_label, y, x = char[0], int(char[1]), int(char[2])\n",
    "\n",
    "        location[image_label] = (x, y)\n"
   ]
  },
  {
   "cell_type": "markdown",
   "metadata": {},
   "source": [
    "### Create template and save them"
   ]
  },
  {
   "cell_type": "code",
   "execution_count": 15,
   "metadata": {},
   "outputs": [],
   "source": [
    "imgs = os.listdir('data/images_jpeg/')\n",
    "\n",
    "# Square size centered in ONH\n",
    "x_patch, y_patch = int((51 - 1) / 2), int((51 - 1) / 2)\n",
    "\n",
    "\n",
    "for image in imgs:\n",
    "    im = plt.imread('data/images_jpeg/'+ image)\n",
    "\n",
    "    loc = location[image]\n",
    "\n",
    "    template = np.zeros(im.shape)\n",
    "\n",
    "    template[loc[1] - x_patch: loc[1] + x_patch, loc[0] - y_patch : loc[0] + y_patch] = 1\n",
    "\n",
    "    name = re.sub(r\"[.]\\w+\", \"\", image) \n",
    "\n",
    "    plt.imsave('data/templates/' + image + '_temp.jpg', template)"
   ]
  },
  {
   "cell_type": "code",
   "execution_count": null,
   "metadata": {},
   "outputs": [],
   "source": []
  }
 ]
}